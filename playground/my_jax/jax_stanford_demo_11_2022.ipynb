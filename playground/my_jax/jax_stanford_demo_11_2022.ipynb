{
 "cells": [
  {
   "cell_type": "code",
   "execution_count": null,
   "id": "41dde63b",
   "metadata": {
    "id": "41dde63b",
    "pycharm": {
     "name": "#%%\n",
     "is_executing": true
    }
   },
   "outputs": [],
   "source": [
    "import jax\n",
    "jax.config.update('jax_array', True)  # required for jax<=0.4.0"
   ]
  },
  {
   "cell_type": "markdown",
   "id": "2d6589de",
   "metadata": {
    "id": "2d6589de",
    "pycharm": {
     "name": "#%% md\n"
    }
   },
   "source": [
    "### `jax.numpy` on TPU (or GPU, or CPU)"
   ]
  },
  {
   "cell_type": "code",
   "execution_count": null,
   "id": "869b35af",
   "metadata": {
    "id": "869b35af",
    "pycharm": {
     "name": "#%%\n"
    }
   },
   "outputs": [],
   "source": [
    "import jax.numpy as jnp\n",
    "from jax import random"
   ]
  },
  {
   "cell_type": "code",
   "execution_count": null,
   "id": "0c6d479a",
   "metadata": {
    "id": "0c6d479a",
    "pycharm": {
     "name": "#%%\n"
    }
   },
   "outputs": [],
   "source": [
    "x = random.normal(random.PRNGKey(0), (8192, 8192))\n",
    "x"
   ]
  },
  {
   "cell_type": "code",
   "execution_count": null,
   "outputs": [],
   "source": [],
   "metadata": {
    "collapsed": false,
    "pycharm": {
     "name": "#%%\n"
    }
   }
  },
  {
   "cell_type": "code",
   "source": [
    "print(x.shape)\n",
    "print(x.dtype)"
   ],
   "metadata": {
    "id": "xjAd-dxKzTz2",
    "pycharm": {
     "name": "#%%\n"
    }
   },
   "id": "xjAd-dxKzTz2",
   "execution_count": null,
   "outputs": []
  },
  {
   "cell_type": "code",
   "execution_count": null,
   "id": "52f22759",
   "metadata": {
    "id": "52f22759",
    "pycharm": {
     "name": "#%%\n"
    }
   },
   "outputs": [],
   "source": [
    "y = jnp.dot(x, jnp.cos(x.T))\n",
    "z = y[[0, 2, 1, 0], ..., ::-1, None]\n",
    "print(z[:3, :3])"
   ]
  },
  {
   "cell_type": "code",
   "execution_count": null,
   "id": "a12d0341",
   "metadata": {
    "id": "a12d0341",
    "pycharm": {
     "name": "#%%\n"
    }
   },
   "outputs": [],
   "source": [
    "%timeit -n 5 -r 5 jnp.dot(x, x).block_until_ready()"
   ]
  },
  {
   "cell_type": "code",
   "execution_count": null,
   "id": "bcca070b",
   "metadata": {
    "id": "bcca070b",
    "pycharm": {
     "name": "#%%\n"
    }
   },
   "outputs": [],
   "source": [
    "import numpy as np\n",
    "x_cpu = np.array(x)"
   ]
  },
  {
   "cell_type": "code",
   "execution_count": null,
   "id": "257d7da3",
   "metadata": {
    "id": "257d7da3",
    "pycharm": {
     "name": "#%%\n"
    }
   },
   "outputs": [],
   "source": [
    "%timeit -n 1 -r 2 np.dot(x_cpu[:2048, :2048], x_cpu[:2048, :2048])"
   ]
  },
  {
   "cell_type": "markdown",
   "id": "95352b7a",
   "metadata": {
    "id": "95352b7a",
    "pycharm": {
     "name": "#%% md\n"
    }
   },
   "source": [
    "### Automatic differentiation"
   ]
  },
  {
   "cell_type": "code",
   "execution_count": null,
   "id": "b6e2457d",
   "metadata": {
    "id": "b6e2457d",
    "pycharm": {
     "name": "#%%\n"
    }
   },
   "outputs": [],
   "source": [
    "from jax import grad"
   ]
  },
  {
   "cell_type": "code",
   "execution_count": null,
   "id": "8926b4dd",
   "metadata": {
    "id": "8926b4dd",
    "pycharm": {
     "name": "#%%\n"
    }
   },
   "outputs": [],
   "source": [
    "def f(x):\n",
    "    if x > 0:\n",
    "        return 2 * x ** 3\n",
    "    else:\n",
    "        return 3 * x"
   ]
  },
  {
   "cell_type": "code",
   "execution_count": null,
   "id": "077320bf",
   "metadata": {
    "id": "077320bf",
    "pycharm": {
     "name": "#%%\n"
    }
   },
   "outputs": [],
   "source": [
    "x = -3.14\n",
    "\n",
    "print(grad(f)(x))\n",
    "print(grad(f)(-x))"
   ]
  },
  {
   "cell_type": "code",
   "execution_count": null,
   "id": "abc7ebdc",
   "metadata": {
    "id": "abc7ebdc",
    "pycharm": {
     "name": "#%%\n"
    }
   },
   "outputs": [],
   "source": [
    "print(grad(grad(grad(f)))(-x))"
   ]
  },
  {
   "cell_type": "code",
   "execution_count": null,
   "id": "6f8004a9",
   "metadata": {
    "id": "6f8004a9",
    "pycharm": {
     "name": "#%%\n"
    }
   },
   "outputs": [],
   "source": [
    "def predict(params, inputs):\n",
    "    for W, b in params:\n",
    "        outputs = jnp.dot(inputs, W) + b\n",
    "        inputs = jnp.maximum(outputs, 0)\n",
    "    return outputs\n",
    "\n",
    "def loss(params, batch):\n",
    "    inputs, targets = batch\n",
    "    predictions = predict(params, inputs)\n",
    "    return jnp.sum((predictions - targets)**2)"
   ]
  },
  {
   "cell_type": "code",
   "execution_count": null,
   "id": "9957c6de",
   "metadata": {
    "id": "9957c6de",
    "pycharm": {
     "name": "#%%\n"
    }
   },
   "outputs": [],
   "source": [
    "def init_layer(key, n_in, n_out):\n",
    "    k1, k2 = random.split(key)\n",
    "    W = random.normal(k1, (n_in, n_out)) / jnp.sqrt(n_in)\n",
    "    b = random.normal(k2, (n_out,))\n",
    "    return W, b\n",
    "\n",
    "def init_model(key, layer_sizes, batch_size):\n",
    "    key, *keys = random.split(key, len(layer_sizes))\n",
    "    params = list(map(init_layer, keys, layer_sizes[:-1], layer_sizes[1:]))\n",
    "\n",
    "    key, *keys = random.split(key, 3)\n",
    "    inputs = random.normal(keys[0], (batch_size, layer_sizes[0]))\n",
    "    targets = random.normal(keys[1], (batch_size, layer_sizes[-1]))\n",
    "\n",
    "    return params, (inputs, targets)\n",
    "\n",
    "layer_sizes = [784, 2048, 2048, 2048, 10]\n",
    "batch_size = 128\n",
    "\n",
    "params, batch = init_model(random.PRNGKey(0), layer_sizes, batch_size)"
   ]
  },
  {
   "cell_type": "code",
   "execution_count": null,
   "id": "e264dc67",
   "metadata": {
    "id": "e264dc67",
    "pycharm": {
     "name": "#%%\n"
    }
   },
   "outputs": [],
   "source": [
    "print(loss(params, batch))"
   ]
  },
  {
   "cell_type": "code",
   "execution_count": null,
   "id": "bbcc5d54",
   "metadata": {
    "id": "bbcc5d54",
    "pycharm": {
     "name": "#%%\n"
    }
   },
   "outputs": [],
   "source": [
    "step_size = 1e-5\n",
    "\n",
    "for _ in range(30):\n",
    "    grads = grad(loss)(params, batch)\n",
    "    params = [(W - step_size * dW, b - step_size * db)\n",
    "              for (W, b), (dW, db) in zip(params, grads)]"
   ]
  },
  {
   "cell_type": "code",
   "execution_count": null,
   "id": "7e69c250",
   "metadata": {
    "id": "7e69c250",
    "pycharm": {
     "name": "#%%\n"
    }
   },
   "outputs": [],
   "source": [
    "print(loss(params, batch))"
   ]
  },
  {
   "cell_type": "markdown",
   "id": "499fd888",
   "metadata": {
    "id": "499fd888",
    "pycharm": {
     "name": "#%% md\n"
    }
   },
   "source": [
    "Lots more autodiff...\n",
    "* forward- and reverse-mode, totally composable\n",
    "* fast Jacobians and Hessians\n",
    "* complex number support (holomorphic and non-holomorphic)\n",
    "* exponentially-faster very-high-order autodiff\n",
    "* precise control over stored intermediate values"
   ]
  },
  {
   "cell_type": "markdown",
   "id": "272be7ed",
   "metadata": {
    "id": "272be7ed",
    "pycharm": {
     "name": "#%% md\n"
    }
   },
   "source": [
    "### End-to-end optimized compilation with `jit`"
   ]
  },
  {
   "cell_type": "code",
   "execution_count": null,
   "id": "5fc5d567",
   "metadata": {
    "id": "5fc5d567",
    "pycharm": {
     "name": "#%%\n"
    }
   },
   "outputs": [],
   "source": [
    "from jax import jit"
   ]
  },
  {
   "cell_type": "code",
   "execution_count": null,
   "id": "dc26e3c2",
   "metadata": {
    "id": "dc26e3c2",
    "pycharm": {
     "name": "#%%\n"
    }
   },
   "outputs": [],
   "source": [
    "loss_jit = jit(loss)"
   ]
  },
  {
   "cell_type": "code",
   "execution_count": null,
   "id": "287aa158",
   "metadata": {
    "id": "287aa158",
    "pycharm": {
     "name": "#%%\n"
    }
   },
   "outputs": [],
   "source": [
    "print(loss_jit(params, batch))"
   ]
  },
  {
   "cell_type": "code",
   "execution_count": null,
   "id": "ea767c41",
   "metadata": {
    "id": "ea767c41",
    "pycharm": {
     "name": "#%%\n"
    }
   },
   "outputs": [],
   "source": [
    "%timeit -n 5 -r 5 loss(params, batch).block_until_ready()"
   ]
  },
  {
   "cell_type": "code",
   "execution_count": null,
   "id": "09ef5dcf",
   "metadata": {
    "id": "09ef5dcf",
    "pycharm": {
     "name": "#%%\n"
    }
   },
   "outputs": [],
   "source": [
    "%timeit -n 5 -r 5 loss_jit(params, batch).block_until_ready()"
   ]
  },
  {
   "cell_type": "code",
   "execution_count": null,
   "id": "858724a6",
   "metadata": {
    "id": "858724a6",
    "pycharm": {
     "name": "#%%\n"
    }
   },
   "outputs": [],
   "source": [
    "gradfun = jit(grad(loss))\n",
    "\n",
    "for _ in range(30):\n",
    "    grads = gradfun(params, batch)\n",
    "    params = [(W - step_size * dW, b - step_size * db)\n",
    "              for (W, b), (dW, db) in zip(params, grads)]\n",
    "    \n",
    "print(loss_jit(params, batch))"
   ]
  },
  {
   "cell_type": "markdown",
   "id": "c270820d",
   "metadata": {
    "id": "c270820d",
    "pycharm": {
     "name": "#%% md\n"
    }
   },
   "source": [
    "Limitations with jit:\n",
    "* value-dependent Python control flow disallowed, use e.g. `lax.cond`, `lax.scan` instead\n",
    "* must be functionally pure, **like all JAX code**"
   ]
  },
  {
   "cell_type": "markdown",
   "id": "a6f4523b",
   "metadata": {
    "id": "a6f4523b",
    "pycharm": {
     "name": "#%% md\n"
    }
   },
   "source": [
    "### Batching with `vmap`"
   ]
  },
  {
   "cell_type": "code",
   "execution_count": null,
   "id": "3baa56e3",
   "metadata": {
    "id": "3baa56e3",
    "pycharm": {
     "name": "#%%\n",
     "is_executing": true
    }
   },
   "outputs": [],
   "source": [
    "from jax import vmap"
   ]
  },
  {
   "cell_type": "code",
   "execution_count": null,
   "id": "ea2d04aa",
   "metadata": {
    "id": "ea2d04aa",
    "pycharm": {
     "name": "#%%\n"
    }
   },
   "outputs": [],
   "source": [
    "def l1_distance(x, y):\n",
    "    assert x.ndim == y.ndim == 1\n",
    "    return jnp.sum(jnp.abs(x - y))"
   ]
  },
  {
   "cell_type": "code",
   "execution_count": null,
   "id": "b5c47c08",
   "metadata": {
    "id": "b5c47c08",
    "pycharm": {
     "name": "#%%\n"
    }
   },
   "outputs": [],
   "source": [
    "xs = random.normal(random.PRNGKey(0), (20, 3))\n",
    "ys = random.normal(random.PRNGKey(1), (20, 3))"
   ]
  },
  {
   "cell_type": "code",
   "execution_count": null,
   "id": "1afcd045",
   "metadata": {
    "id": "1afcd045",
    "pycharm": {
     "name": "#%%\n"
    }
   },
   "outputs": [],
   "source": [
    "dists = jnp.stack([l1_distance(x, y) for x, y in zip(xs, ys)])\n",
    "print(dists)"
   ]
  },
  {
   "cell_type": "code",
   "execution_count": null,
   "id": "159a7420",
   "metadata": {
    "id": "159a7420",
    "pycharm": {
     "name": "#%%\n"
    }
   },
   "outputs": [],
   "source": [
    "dists = vmap(l1_distance)(xs, ys)\n",
    "print(dists)"
   ]
  },
  {
   "cell_type": "code",
   "source": [
    "from jax import make_jaxpr\n",
    "make_jaxpr(l1_distance)(xs[0], ys[0])"
   ],
   "metadata": {
    "id": "Cc63j76cOz88",
    "pycharm": {
     "name": "#%%\n"
    }
   },
   "id": "Cc63j76cOz88",
   "execution_count": null,
   "outputs": []
  },
  {
   "cell_type": "code",
   "execution_count": null,
   "id": "bf5828cd",
   "metadata": {
    "id": "bf5828cd",
    "pycharm": {
     "name": "#%%\n"
    }
   },
   "outputs": [],
   "source": [
    "make_jaxpr(vmap(l1_distance))(xs, ys)"
   ]
  },
  {
   "cell_type": "code",
   "execution_count": null,
   "id": "435ded9c",
   "metadata": {
    "id": "435ded9c",
    "pycharm": {
     "name": "#%%\n"
    }
   },
   "outputs": [],
   "source": [
    "def pairwise_distances(xs, ys):\n",
    "    return vmap(vmap(l1_distance, (0, None)), (None, 0))(xs, ys)"
   ]
  },
  {
   "cell_type": "code",
   "execution_count": null,
   "id": "72eb7f97",
   "metadata": {
    "id": "72eb7f97",
    "pycharm": {
     "name": "#%%\n"
    }
   },
   "outputs": [],
   "source": [
    "make_jaxpr(pairwise_distances)(xs, ys)"
   ]
  },
  {
   "cell_type": "code",
   "execution_count": null,
   "id": "465ca7a1",
   "metadata": {
    "id": "465ca7a1",
    "pycharm": {
     "name": "#%%\n"
    }
   },
   "outputs": [],
   "source": [
    "perexample_grads = jit(vmap(grad(loss), in_axes=(None, 0)))"
   ]
  },
  {
   "cell_type": "code",
   "execution_count": null,
   "id": "b6dc4017",
   "metadata": {
    "id": "b6dc4017",
    "pycharm": {
     "name": "#%%\n"
    }
   },
   "outputs": [],
   "source": [
    "(dW, db), *_ = perexample_grads(params, batch)\n",
    "dW.shape"
   ]
  },
  {
   "cell_type": "markdown",
   "id": "80b21824",
   "metadata": {
    "id": "80b21824",
    "pycharm": {
     "name": "#%% md\n"
    }
   },
   "source": [
    "Use `vmap` to plumb batch dimensions through anything: vectorize your code, library code, autodiff-generated code..."
   ]
  },
  {
   "cell_type": "markdown",
   "id": "c3949354",
   "metadata": {
    "id": "c3949354",
    "pycharm": {
     "name": "#%% md\n"
    }
   },
   "source": [
    "### Explicit SPMD parallelism with `pmap`"
   ]
  },
  {
   "cell_type": "code",
   "execution_count": null,
   "id": "4464ba4b",
   "metadata": {
    "id": "4464ba4b",
    "pycharm": {
     "name": "#%%\n"
    }
   },
   "outputs": [],
   "source": [
    "from jax import pmap"
   ]
  },
  {
   "cell_type": "code",
   "execution_count": null,
   "id": "05d85b8e",
   "metadata": {
    "id": "05d85b8e",
    "pycharm": {
     "name": "#%%\n"
    }
   },
   "outputs": [],
   "source": [
    "jax.devices()"
   ]
  },
  {
   "cell_type": "code",
   "execution_count": null,
   "id": "1752fbc5",
   "metadata": {
    "id": "1752fbc5",
    "pycharm": {
     "name": "#%%\n"
    }
   },
   "outputs": [],
   "source": [
    "keys = random.split(random.PRNGKey(0), 8)\n",
    "mats = pmap(lambda key: random.normal(key, (8192, 8192)))(keys)\n",
    "mats.shape"
   ]
  },
  {
   "cell_type": "code",
   "execution_count": null,
   "id": "1b8adc6b",
   "metadata": {
    "id": "1b8adc6b",
    "pycharm": {
     "name": "#%%\n"
    }
   },
   "outputs": [],
   "source": [
    "result = pmap(jnp.dot)(mats, mats)\n",
    "print(result.shape)"
   ]
  },
  {
   "cell_type": "code",
   "execution_count": null,
   "id": "46e82783",
   "metadata": {
    "id": "46e82783",
    "pycharm": {
     "name": "#%%\n"
    }
   },
   "outputs": [],
   "source": [
    "timeit -n 5 -r 5 pmap(jnp.dot)(mats, mats).block_until_ready()"
   ]
  },
  {
   "cell_type": "code",
   "execution_count": null,
   "id": "bbd19e3f",
   "metadata": {
    "id": "bbd19e3f",
    "pycharm": {
     "name": "#%%\n"
    }
   },
   "outputs": [],
   "source": [
    "from functools import partial\n",
    "from jax import lax\n",
    "\n",
    "@partial(pmap, axis_name='i')\n",
    "def allreduce_sum(x):\n",
    "    return lax.psum(x, 'i')\n",
    "\n",
    "allreduce_sum(jnp.ones(8))"
   ]
  },
  {
   "cell_type": "markdown",
   "id": "3f37ca93",
   "metadata": {
    "id": "3f37ca93",
    "pycharm": {
     "name": "#%% md\n"
    }
   },
   "source": [
    "### **NEW**: Implicit parallelism with `jit`!"
   ]
  },
  {
   "cell_type": "code",
   "source": [
    "import jax\n",
    "\n",
    "x = jax.random.normal(jax.random.PRNGKey(0), (8192, 8192))"
   ],
   "metadata": {
    "id": "s5jXIod7VcWW",
    "pycharm": {
     "name": "#%%\n"
    }
   },
   "execution_count": null,
   "outputs": [],
   "id": "s5jXIod7VcWW"
  },
  {
   "cell_type": "code",
   "execution_count": null,
   "metadata": {
    "id": "d9YEbRnKVO6K",
    "pycharm": {
     "name": "#%%\n"
    }
   },
   "outputs": [],
   "source": [
    "jax.debug.visualize_array_sharding(x)"
   ],
   "id": "d9YEbRnKVO6K"
  },
  {
   "cell_type": "markdown",
   "source": [
    "Sharding an array across multiple devices:"
   ],
   "metadata": {
    "id": "HhCjhK0zXIqX",
    "pycharm": {
     "name": "#%% md\n"
    }
   },
   "id": "HhCjhK0zXIqX"
  },
  {
   "cell_type": "code",
   "execution_count": null,
   "metadata": {
    "id": "A9j7aPmPVO6K",
    "pycharm": {
     "name": "#%%\n"
    }
   },
   "outputs": [],
   "source": [
    "from jax.experimental import mesh_utils\n",
    "from jax.sharding import PositionalSharding\n",
    "devices = mesh_utils.create_device_mesh((8,))\n",
    "sharding = PositionalSharding(devices)"
   ],
   "id": "A9j7aPmPVO6K"
  },
  {
   "cell_type": "code",
   "source": [
    "x = jax.device_put(x, sharding.reshape(8, 1))\n",
    "jax.debug.visualize_array_sharding(x)"
   ],
   "metadata": {
    "id": "K2PL4LwBX0JE",
    "pycharm": {
     "name": "#%%\n"
    }
   },
   "execution_count": null,
   "outputs": [],
   "id": "K2PL4LwBX0JE"
  },
  {
   "cell_type": "markdown",
   "source": [
    "A sharding is an array of sets of devices:"
   ],
   "metadata": {
    "id": "TUu69IWXZdTm",
    "pycharm": {
     "name": "#%% md\n"
    }
   },
   "id": "TUu69IWXZdTm"
  },
  {
   "cell_type": "code",
   "execution_count": null,
   "metadata": {
    "id": "ZvG5kZ7uVO6L",
    "pycharm": {
     "name": "#%%\n"
    }
   },
   "outputs": [],
   "source": [
    "sharding"
   ],
   "id": "ZvG5kZ7uVO6L"
  },
  {
   "cell_type": "markdown",
   "source": [
    "Shardings can be reshaped, just like arrays:"
   ],
   "metadata": {
    "id": "uRLpOcmNj_Vt",
    "pycharm": {
     "name": "#%% md\n"
    }
   },
   "id": "uRLpOcmNj_Vt"
  },
  {
   "cell_type": "code",
   "source": [
    "sharding.shape"
   ],
   "metadata": {
    "id": "SN05nnYfRECQ",
    "pycharm": {
     "name": "#%%\n"
    }
   },
   "id": "SN05nnYfRECQ",
   "execution_count": null,
   "outputs": []
  },
  {
   "cell_type": "code",
   "execution_count": null,
   "metadata": {
    "id": "ZMRAl8q3VO6L",
    "pycharm": {
     "name": "#%%\n"
    }
   },
   "outputs": [],
   "source": [
    "sharding.reshape(8, 1)"
   ],
   "id": "ZMRAl8q3VO6L"
  },
  {
   "cell_type": "code",
   "source": [
    "sharding.reshape(4, 2)"
   ],
   "metadata": {
    "id": "pS7xTZeBm6Dt",
    "pycharm": {
     "name": "#%%\n"
    }
   },
   "execution_count": null,
   "outputs": [],
   "id": "pS7xTZeBm6Dt"
  },
  {
   "cell_type": "markdown",
   "source": [
    "An array `x` can be sharded with a sharding if the sharding is _congruent_ with `x.shape`, meaning the sharding has the same length as `x.shape` and each element evenly divides the corresponding element of `x.shape`.\n",
    "\n",
    "For example:"
   ],
   "metadata": {
    "id": "KBu6WLfhm7ra",
    "pycharm": {
     "name": "#%% md\n"
    }
   },
   "id": "KBu6WLfhm7ra"
  },
  {
   "cell_type": "code",
   "source": [
    "sharding = sharding.reshape(4, 2)\n",
    "print(sharding)"
   ],
   "metadata": {
    "id": "6JhLL3i_sPth",
    "pycharm": {
     "name": "#%%\n"
    }
   },
   "execution_count": null,
   "outputs": [],
   "id": "6JhLL3i_sPth"
  },
  {
   "cell_type": "code",
   "source": [
    "y = jax.device_put(x, sharding)\n",
    "jax.debug.visualize_array_sharding(y)"
   ],
   "metadata": {
    "id": "5FCqZfhWt88c",
    "pycharm": {
     "name": "#%%\n"
    }
   },
   "execution_count": null,
   "outputs": [],
   "id": "5FCqZfhWt88c"
  },
  {
   "cell_type": "markdown",
   "source": [
    "Different `sharding`s result in different distributed layouts:"
   ],
   "metadata": {
    "id": "tyg9F-UIsU__",
    "pycharm": {
     "name": "#%% md\n"
    }
   },
   "id": "tyg9F-UIsU__"
  },
  {
   "cell_type": "code",
   "source": [
    "sharding = sharding.reshape(1, 8)\n",
    "print(sharding)"
   ],
   "metadata": {
    "id": "nt4IbVMkswlO",
    "pycharm": {
     "name": "#%%\n"
    }
   },
   "execution_count": null,
   "outputs": [],
   "id": "nt4IbVMkswlO"
  },
  {
   "cell_type": "code",
   "source": [
    "y = jax.device_put(x, sharding)\n",
    "jax.debug.visualize_array_sharding(y)"
   ],
   "metadata": {
    "id": "AyZzDpnFuIpz",
    "pycharm": {
     "name": "#%%\n"
    }
   },
   "execution_count": null,
   "outputs": [],
   "id": "AyZzDpnFuIpz"
  },
  {
   "cell_type": "markdown",
   "source": [
    "Sometimes we might want to _replicate_ some slices:\n",
    "\n",
    "We can express replication by calling the sharding reducer method `replicate`:"
   ],
   "metadata": {
    "id": "0PuamOvXubcf",
    "pycharm": {
     "name": "#%% md\n"
    }
   },
   "id": "0PuamOvXubcf"
  },
  {
   "cell_type": "code",
   "source": [
    "sharding = sharding.reshape(4, 2)\n",
    "print(sharding.replicate(axis=0, keepdims=True))"
   ],
   "metadata": {
    "id": "l5t_Mg_Rux6j",
    "pycharm": {
     "name": "#%%\n"
    }
   },
   "execution_count": null,
   "outputs": [],
   "id": "l5t_Mg_Rux6j"
  },
  {
   "cell_type": "code",
   "source": [
    "y = jax.device_put(x, sharding.replicate(axis=0, keepdims=True))\n",
    "jax.debug.visualize_array_sharding(y)"
   ],
   "metadata": {
    "id": "Gi3sDdqAu_8W",
    "pycharm": {
     "name": "#%%\n"
    }
   },
   "execution_count": null,
   "outputs": [],
   "id": "Gi3sDdqAu_8W"
  },
  {
   "cell_type": "markdown",
   "source": [
    "The `replicate` method acts similar to the familiar NumPy array reduction methods like `.sum()` and `.prod()`."
   ],
   "metadata": {
    "id": "FzeP0kpTvJv-",
    "pycharm": {
     "name": "#%% md\n"
    }
   },
   "id": "FzeP0kpTvJv-"
  },
  {
   "cell_type": "code",
   "source": [
    "print(sharding.replicate(0).shape)\n",
    "print(sharding.replicate(1).shape)"
   ],
   "metadata": {
    "id": "vDlU8hgJvson",
    "pycharm": {
     "name": "#%%\n"
    }
   },
   "execution_count": null,
   "outputs": [],
   "id": "vDlU8hgJvson"
  },
  {
   "cell_type": "code",
   "source": [
    "y = jax.device_put(x, sharding.replicate(1))\n",
    "jax.debug.visualize_array_sharding(y)"
   ],
   "metadata": {
    "id": "vHWC4womxCdf",
    "pycharm": {
     "name": "#%%\n"
    }
   },
   "execution_count": null,
   "outputs": [],
   "id": "vHWC4womxCdf"
  },
  {
   "cell_type": "markdown",
   "source": [
    "## Computation follows sharding"
   ],
   "metadata": {
    "id": "rhWzHgGf4mkg",
    "pycharm": {
     "name": "#%% md\n"
    }
   },
   "id": "rhWzHgGf4mkg"
  },
  {
   "cell_type": "markdown",
   "source": [
    "JAX uses a computation-follows-data layout policy, which extends to shardings:"
   ],
   "metadata": {
    "id": "JukoaRhl4tXJ",
    "pycharm": {
     "name": "#%% md\n"
    }
   },
   "id": "JukoaRhl4tXJ"
  },
  {
   "cell_type": "code",
   "source": [
    "sharding = PositionalSharding(mesh_utils.create_device_mesh((8,)))\n",
    "\n",
    "x = jax.device_put(x, sharding.reshape(4, 2))\n",
    "print('Input sharding:')\n",
    "jax.debug.visualize_array_sharding(x)"
   ],
   "metadata": {
    "id": "_NqZnEUHgZQv",
    "pycharm": {
     "name": "#%%\n"
    }
   },
   "execution_count": null,
   "outputs": [],
   "id": "_NqZnEUHgZQv"
  },
  {
   "cell_type": "code",
   "source": [
    "y = jnp.sin(x)"
   ],
   "metadata": {
    "id": "x89raigTazVJ",
    "pycharm": {
     "name": "#%%\n"
    }
   },
   "execution_count": null,
   "outputs": [],
   "id": "x89raigTazVJ"
  },
  {
   "cell_type": "code",
   "source": [
    "print('Output sharding:')\n",
    "jax.debug.visualize_array_sharding(y)"
   ],
   "metadata": {
    "id": "hoCXpumDYf-Z",
    "pycharm": {
     "name": "#%%\n"
    }
   },
   "id": "hoCXpumDYf-Z",
   "execution_count": null,
   "outputs": []
  },
  {
   "cell_type": "markdown",
   "source": [
    "For an elementwise operation like `jnp.sin` the compiler avoids communication and chooses the output sharding to be the same as the input.\n",
    "\n",
    "A richer example:"
   ],
   "metadata": {
    "id": "7tY2gVRfazaT",
    "pycharm": {
     "name": "#%% md\n"
    }
   },
   "id": "7tY2gVRfazaT"
  },
  {
   "cell_type": "code",
   "source": [
    "y = jax.device_put(x, sharding.reshape(4, 2).replicate(1))\n",
    "z = jax.device_put(x, sharding.reshape(4, 2).replicate(0))\n",
    "print('LHS sharding:')\n",
    "jax.debug.visualize_array_sharding(y)\n",
    "print('RHS sharding:')\n",
    "jax.debug.visualize_array_sharding(z)"
   ],
   "metadata": {
    "id": "D52tW3y-cx32",
    "pycharm": {
     "name": "#%%\n"
    }
   },
   "execution_count": null,
   "outputs": [],
   "id": "D52tW3y-cx32"
  },
  {
   "cell_type": "code",
   "source": [
    "w = jnp.dot(y, z)"
   ],
   "metadata": {
    "id": "iyp1qwuPYq3w",
    "pycharm": {
     "name": "#%%\n"
    }
   },
   "id": "iyp1qwuPYq3w",
   "execution_count": null,
   "outputs": []
  },
  {
   "cell_type": "code",
   "source": [
    "print('Output sharding:')\n",
    "jax.debug.visualize_array_sharding(w)"
   ],
   "metadata": {
    "id": "vvfuCg7-YtXz",
    "pycharm": {
     "name": "#%%\n"
    }
   },
   "id": "vvfuCg7-YtXz",
   "execution_count": null,
   "outputs": []
  },
  {
   "cell_type": "markdown",
   "source": [
    "The compiler chose an output sharding that maximally parallelizes the computation and avoids communication.\n",
    "\n",
    "How can we be sure it's actually running in parallel? We can do a simple timing experiment:"
   ],
   "metadata": {
    "id": "_EPNaWzgazft",
    "pycharm": {
     "name": "#%% md\n"
    }
   },
   "id": "_EPNaWzgazft"
  },
  {
   "cell_type": "code",
   "source": [
    "x_single = jax.device_put(x, jax.devices()[0])\n",
    "jax.debug.visualize_array_sharding(x_single)"
   ],
   "metadata": {
    "id": "BUcN-RqtfRml",
    "pycharm": {
     "name": "#%%\n"
    }
   },
   "execution_count": null,
   "outputs": [],
   "id": "BUcN-RqtfRml"
  },
  {
   "cell_type": "code",
   "source": [
    "np.allclose(jnp.dot(x_single, x_single),\n",
    "            jnp.dot(y, z))"
   ],
   "metadata": {
    "id": "iKrmBxJ-fhM9",
    "pycharm": {
     "name": "#%%\n"
    }
   },
   "execution_count": null,
   "outputs": [],
   "id": "iKrmBxJ-fhM9"
  },
  {
   "cell_type": "code",
   "source": [
    "%timeit -n 5 -r 5 jnp.dot(x_single, x_single).block_until_ready()"
   ],
   "metadata": {
    "id": "gpcGJ1PSfSAV",
    "pycharm": {
     "name": "#%%\n"
    }
   },
   "execution_count": null,
   "outputs": [],
   "id": "gpcGJ1PSfSAV"
  },
  {
   "cell_type": "code",
   "source": [
    "%timeit -n 5 -r 5 jnp.dot(y, z).block_until_ready()"
   ],
   "metadata": {
    "id": "1LMWZuYRfSGT",
    "pycharm": {
     "name": "#%%\n"
    }
   },
   "execution_count": null,
   "outputs": [],
   "id": "1LMWZuYRfSGT"
  },
  {
   "cell_type": "markdown",
   "source": [
    "## Examples: neural networks"
   ],
   "metadata": {
    "id": "QUkXWG-baMUs",
    "pycharm": {
     "name": "#%% md\n"
    }
   },
   "id": "QUkXWG-baMUs"
  },
  {
   "cell_type": "markdown",
   "source": [
    "We can use `jax.device_put` and `jax.jit`'s computation-follows-sharding features to parallelize computation in neural networks. Here are some simple examples, based on this basic neural network:"
   ],
   "metadata": {
    "id": "3ii_UPkG3gzP",
    "pycharm": {
     "name": "#%% md\n"
    }
   },
   "id": "3ii_UPkG3gzP"
  },
  {
   "cell_type": "code",
   "source": [
    "def predict(params, inputs):\n",
    "  for W, b in params:\n",
    "    outputs = jnp.dot(inputs, W) + b\n",
    "    inputs = jnp.maximum(outputs, 0)\n",
    "  return outputs\n",
    "\n",
    "def loss(params, batch):\n",
    "  inputs, targets = batch\n",
    "  predictions = predict(params, inputs)\n",
    "  return jnp.mean(jnp.sum((predictions - targets)**2, axis=-1))"
   ],
   "metadata": {
    "id": "t-J6YtpA2db0",
    "pycharm": {
     "name": "#%%\n"
    }
   },
   "execution_count": null,
   "outputs": [],
   "id": "t-J6YtpA2db0"
  },
  {
   "cell_type": "code",
   "source": [
    "loss_jit = jax.jit(loss)\n",
    "gradfun = jax.jit(jax.grad(loss))"
   ],
   "metadata": {
    "id": "4USnNl6w4Y1K",
    "pycharm": {
     "name": "#%%\n"
    }
   },
   "execution_count": null,
   "outputs": [],
   "id": "4USnNl6w4Y1K"
  },
  {
   "cell_type": "code",
   "source": [
    "def init_layer(key, n_in, n_out):\n",
    "    k1, k2 = jax.random.split(key)\n",
    "    W = jax.random.normal(k1, (n_in, n_out)) / jnp.sqrt(n_in)\n",
    "    b = jax.random.normal(k2, (n_out,))\n",
    "    return W, b\n",
    "\n",
    "def init_model(key, layer_sizes, batch_size):\n",
    "    key, *keys = jax.random.split(key, len(layer_sizes))\n",
    "    params = list(map(init_layer, keys, layer_sizes[:-1], layer_sizes[1:]))\n",
    "\n",
    "    key, *keys = jax.random.split(key, 3)\n",
    "    inputs = jax.random.normal(keys[0], (batch_size, layer_sizes[0]))\n",
    "    targets = jax.random.normal(keys[1], (batch_size, layer_sizes[-1]))\n",
    "\n",
    "    return params, (inputs, targets)\n",
    "\n",
    "layer_sizes = [784, 8192, 8192, 8192, 10]\n",
    "batch_size = 8192\n",
    "\n",
    "params, batch = init_model(jax.random.PRNGKey(0), layer_sizes, batch_size)"
   ],
   "metadata": {
    "id": "nfqG0N1g2dhk",
    "pycharm": {
     "name": "#%%\n"
    }
   },
   "execution_count": null,
   "outputs": [],
   "id": "nfqG0N1g2dhk"
  },
  {
   "cell_type": "markdown",
   "source": [
    "### 8-way batch data parallelism"
   ],
   "metadata": {
    "id": "sJv_h0AS2drh",
    "pycharm": {
     "name": "#%% md\n"
    }
   },
   "id": "sJv_h0AS2drh"
  },
  {
   "cell_type": "code",
   "source": [
    "sharding = PositionalSharding(jax.devices()).reshape(8, 1)"
   ],
   "metadata": {
    "id": "uxZ4Czqyzrc5",
    "pycharm": {
     "name": "#%%\n"
    }
   },
   "execution_count": null,
   "outputs": [],
   "id": "uxZ4Czqyzrc5"
  },
  {
   "cell_type": "code",
   "source": [
    "batch = jax.device_put(batch, sharding)\n",
    "params = jax.device_put(params, sharding.replicate())"
   ],
   "metadata": {
    "id": "q9maIR6K4T9r",
    "pycharm": {
     "name": "#%%\n"
    }
   },
   "execution_count": null,
   "outputs": [],
   "id": "q9maIR6K4T9r"
  },
  {
   "cell_type": "code",
   "source": [
    "jax.debug.visualize_array_sharding(batch[0])\n",
    "jax.debug.visualize_array_sharding(params[0][0])"
   ],
   "metadata": {
    "id": "ErOmG4oNb0yI",
    "pycharm": {
     "name": "#%%\n"
    }
   },
   "id": "ErOmG4oNb0yI",
   "execution_count": null,
   "outputs": []
  },
  {
   "cell_type": "code",
   "source": [
    "loss_jit(params, batch)"
   ],
   "metadata": {
    "id": "CtKIMM6ry7Ov",
    "pycharm": {
     "name": "#%%\n"
    }
   },
   "execution_count": null,
   "outputs": [],
   "id": "CtKIMM6ry7Ov"
  },
  {
   "cell_type": "code",
   "source": [
    "step_size = 1e-5\n",
    "\n",
    "for _ in range(30):\n",
    "  grads = gradfun(params, batch)\n",
    "  params = [(W - step_size * dW, b - step_size * db)\n",
    "            for (W, b), (dW, db) in zip(params, grads)]\n",
    "\n",
    "print(loss_jit(params, batch))"
   ],
   "metadata": {
    "id": "tAM6NQkly8lw",
    "pycharm": {
     "name": "#%%\n"
    }
   },
   "execution_count": null,
   "outputs": [],
   "id": "tAM6NQkly8lw"
  },
  {
   "cell_type": "code",
   "source": [
    "jax.debug.visualize_array_sharding(params[0][0])"
   ],
   "metadata": {
    "id": "2s0vjL_VcFVE",
    "pycharm": {
     "name": "#%%\n"
    }
   },
   "id": "2s0vjL_VcFVE",
   "execution_count": null,
   "outputs": []
  },
  {
   "cell_type": "code",
   "source": [
    "%timeit -n 5 -r 5 gradfun(params, batch)[0][0].block_until_ready()"
   ],
   "metadata": {
    "id": "Eix05eVQy-LZ",
    "pycharm": {
     "name": "#%%\n"
    }
   },
   "execution_count": null,
   "outputs": [],
   "id": "Eix05eVQy-LZ"
  },
  {
   "cell_type": "code",
   "source": [
    "batch_single = jax.device_put(batch, jax.devices()[0])\n",
    "params_single = jax.device_put(params, jax.devices()[0])"
   ],
   "metadata": {
    "id": "W-19ajlSy_gF",
    "pycharm": {
     "name": "#%%\n"
    }
   },
   "execution_count": null,
   "outputs": [],
   "id": "W-19ajlSy_gF"
  },
  {
   "cell_type": "code",
   "source": [
    "%timeit -n 5 -r 5 gradfun(params_single, batch_single)[0][0].block_until_ready()"
   ],
   "metadata": {
    "id": "DBHfeKyUzBD9",
    "pycharm": {
     "name": "#%%\n"
    }
   },
   "execution_count": null,
   "outputs": [],
   "id": "DBHfeKyUzBD9"
  },
  {
   "cell_type": "markdown",
   "source": [
    "### 4-way batch (data) parallelism and 2-way model (weight) parallelism"
   ],
   "metadata": {
    "id": "3AjeeB7B4NP6",
    "pycharm": {
     "name": "#%% md\n"
    }
   },
   "id": "3AjeeB7B4NP6"
  },
  {
   "cell_type": "code",
   "source": [
    "sharding = sharding.reshape(4, 2)"
   ],
   "metadata": {
    "id": "gw1WZyXu4owx",
    "pycharm": {
     "name": "#%%\n"
    }
   },
   "execution_count": null,
   "outputs": [],
   "id": "gw1WZyXu4owx"
  },
  {
   "cell_type": "code",
   "source": [
    "batch = jax.device_put(batch, sharding.replicate(1))\n",
    "jax.debug.visualize_array_sharding(batch[0])\n",
    "jax.debug.visualize_array_sharding(batch[1])"
   ],
   "metadata": {
    "id": "P0s_ibu8z0hW",
    "pycharm": {
     "name": "#%%\n"
    }
   },
   "execution_count": null,
   "outputs": [],
   "id": "P0s_ibu8z0hW"
  },
  {
   "cell_type": "code",
   "source": [
    "params, batch = init_model(jax.random.PRNGKey(0), layer_sizes, batch_size)\n",
    "\n",
    "(W1, b1), (W2, b2), (W3, b3), (W4, b4) = params\n",
    "\n",
    "W1 = jax.device_put(W1, sharding.replicate())\n",
    "b1 = jax.device_put(b1, sharding.replicate())\n",
    "\n",
    "W2 = jax.device_put(W2, sharding.replicate(0))\n",
    "b2 = jax.device_put(b2, sharding.replicate(0))\n",
    "\n",
    "W3 = jax.device_put(W3, sharding.replicate(0).T)\n",
    "b3 = jax.device_put(b3, sharding.replicate())\n",
    "\n",
    "W4 = jax.device_put(W4, sharding.replicate())\n",
    "b4 = jax.device_put(b4, sharding.replicate())\n",
    "\n",
    "params = (W1, b1), (W2, b2), (W3, b3), (W4, b4)"
   ],
   "metadata": {
    "id": "7kNJVPBjz5nq",
    "pycharm": {
     "name": "#%%\n"
    }
   },
   "execution_count": null,
   "outputs": [],
   "id": "7kNJVPBjz5nq"
  },
  {
   "cell_type": "code",
   "source": [
    "jax.debug.visualize_array_sharding(W2)"
   ],
   "metadata": {
    "id": "I8ZJiiGb0HJk",
    "pycharm": {
     "name": "#%%\n"
    }
   },
   "execution_count": null,
   "outputs": [],
   "id": "I8ZJiiGb0HJk"
  },
  {
   "cell_type": "code",
   "source": [
    "jax.debug.visualize_array_sharding(W3)"
   ],
   "metadata": {
    "id": "t2fsJ_Ow0LgK",
    "pycharm": {
     "name": "#%%\n"
    }
   },
   "execution_count": null,
   "outputs": [],
   "id": "t2fsJ_Ow0LgK"
  },
  {
   "cell_type": "code",
   "source": [
    "print(loss_jit(params, batch))"
   ],
   "metadata": {
    "id": "xnNgGB7-0Nh4",
    "pycharm": {
     "name": "#%%\n"
    }
   },
   "execution_count": null,
   "outputs": [],
   "id": "xnNgGB7-0Nh4"
  },
  {
   "cell_type": "code",
   "source": [
    "step_size = 1e-5\n",
    "\n",
    "for _ in range(30):\n",
    "    grads = gradfun(params, batch)\n",
    "    params = [(W - step_size * dW, b - step_size * db)\n",
    "              for (W, b), (dW, db) in zip(params, grads)]"
   ],
   "metadata": {
    "id": "ygV3-IBV0Qx3",
    "pycharm": {
     "name": "#%%\n"
    }
   },
   "execution_count": null,
   "outputs": [],
   "id": "ygV3-IBV0Qx3"
  },
  {
   "cell_type": "code",
   "source": [
    "print(loss_jit(params, batch))"
   ],
   "metadata": {
    "id": "VWXN24Xh0Tkc",
    "pycharm": {
     "name": "#%%\n"
    }
   },
   "execution_count": null,
   "outputs": [],
   "id": "VWXN24Xh0Tkc"
  },
  {
   "cell_type": "code",
   "source": [
    "(W1, b1), (W2, b2), (W3, b3), (W4, b4) = params\n",
    "jax.debug.visualize_array_sharding(W2)\n",
    "jax.debug.visualize_array_sharding(W3)"
   ],
   "metadata": {
    "id": "Cq3TzYU70Vfd",
    "pycharm": {
     "name": "#%%\n"
    }
   },
   "execution_count": null,
   "outputs": [],
   "id": "Cq3TzYU70Vfd"
  },
  {
   "cell_type": "code",
   "source": [
    "%timeit -n 10 -r 10 gradfun(params, batch)[0][0].block_until_ready()"
   ],
   "metadata": {
    "id": "hAeLBs9D0Z8T",
    "pycharm": {
     "name": "#%%\n"
    }
   },
   "execution_count": null,
   "outputs": [],
   "id": "hAeLBs9D0Z8T"
  },
  {
   "cell_type": "markdown",
   "id": "bfa2e919",
   "metadata": {
    "id": "bfa2e919",
    "pycharm": {
     "name": "#%% md\n"
    }
   },
   "source": [
    "We didn't change our model code at all! Write your code for one device, run it on _N_..."
   ]
  },
  {
   "cell_type": "markdown",
   "id": "ba0dcc17",
   "metadata": {
    "id": "ba0dcc17",
    "pycharm": {
     "name": "#%% md\n"
    }
   },
   "source": [
    "Compose with `grad`, `vmap`, `jit`, ..."
   ]
  }
 ],
 "metadata": {
  "kernelspec": {
   "display_name": "Python 3 (ipykernel)",
   "language": "python",
   "name": "python3"
  },
  "language_info": {
   "codemirror_mode": {
    "name": "ipython",
    "version": 3
   },
   "file_extension": ".py",
   "mimetype": "text/x-python",
   "name": "python",
   "nbconvert_exporter": "python",
   "pygments_lexer": "ipython3",
   "version": "3.8.13"
  },
  "colab": {
   "provenance": []
  }
 },
 "nbformat": 4,
 "nbformat_minor": 5
}